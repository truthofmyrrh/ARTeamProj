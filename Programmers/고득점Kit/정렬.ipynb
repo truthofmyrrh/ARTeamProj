{
  "nbformat": 4,
  "nbformat_minor": 0,
  "metadata": {
    "colab": {
      "name": "정렬.ipynb",
      "provenance": [],
      "collapsed_sections": [],
      "authorship_tag": "ABX9TyPMTRSVI13HiTirhWnw2Z4K",
      "include_colab_link": true
    },
    "kernelspec": {
      "name": "python3",
      "display_name": "Python 3"
    },
    "language_info": {
      "name": "python"
    }
  },
  "cells": [
    {
      "cell_type": "markdown",
      "metadata": {
        "id": "view-in-github",
        "colab_type": "text"
      },
      "source": [
        "<a href=\"https://colab.research.google.com/github/truthofmyrrh/AR_Shooting_Game/blob/main/Programmers/%EA%B3%A0%EB%93%9D%EC%A0%90Kit/%EC%A0%95%EB%A0%AC.ipynb\" target=\"_parent\"><img src=\"https://colab.research.google.com/assets/colab-badge.svg\" alt=\"Open In Colab\"/></a>"
      ]
    },
    {
      "cell_type": "markdown",
      "metadata": {
        "id": "xX9sqw2se8VI"
      },
      "source": [
        "# 정렬\n",
        "\n",
        "**정렬 알고리즘**\n",
        "\n",
        "    I. Bubble sort\n",
        "\n",
        "    II. Selection sort\n",
        "\n",
        "    III. Shell sort\n",
        "\n",
        "    IV. Merge sort\n",
        "\n",
        "    V. Quick sort(pandas 내장 함수 알고리즘)\n",
        "\n",
        "\n",
        "**python 구현 방향**\n",
        "\n",
        "- sort() 함수: key, reverse(ascending) 등\n"
      ]
    },
    {
      "cell_type": "markdown",
      "metadata": {
        "id": "trDcGk2gfF7K"
      },
      "source": [
        "## 1. K번째 수\n",
        "\n",
        "입력 예시\n"
      ]
    },
    {
      "cell_type": "code",
      "metadata": {
        "id": "DhhVMCPGe9Yv"
      },
      "source": [
        "array = [1, 5, 2, 6, 3, 7, 4]\n",
        "commands = [[2, 5, 3], [4, 4, 1], [1, 7, 3]]\n",
        "# return = [5, 6, 3]"
      ],
      "execution_count": null,
      "outputs": []
    },
    {
      "cell_type": "markdown",
      "metadata": {
        "id": "FuyJg4p-lWRr"
      },
      "source": [
        "내 풀이"
      ]
    },
    {
      "cell_type": "code",
      "metadata": {
        "id": "BLdArnc6jniB"
      },
      "source": [
        "def solution(array, commands):\n",
        "    ans = []\n",
        "    for cm in commands:\n",
        "        ans.append(sorted(array[cm[0]-1:cm[1]])[cm[2]-1])\n",
        "    return ans"
      ],
      "execution_count": null,
      "outputs": []
    },
    {
      "cell_type": "markdown",
      "metadata": {
        "id": "icPmxOTIlXS8"
      },
      "source": [
        "다른 사람 풀이"
      ]
    },
    {
      "cell_type": "code",
      "metadata": {
        "id": "GAb1_X9Sk4EP"
      },
      "source": [
        "# 한줄 코드\n",
        "def solution(array, commands):\n",
        "    return list(map(lambda x:sorted(array[x[0]-1:x[1]])[x[2]-1], commands))"
      ],
      "execution_count": null,
      "outputs": []
    },
    {
      "cell_type": "code",
      "metadata": {
        "id": "SPtsjn2pk4t-"
      },
      "source": [
        "def solution(array, commands):\n",
        "    answer = []\n",
        "    for command in commands:\n",
        "        # 변수 한번에 할당\n",
        "        i,j,k = command\n",
        "        answer.append(list(sorted(array[i-1:j]))[k-1])\n",
        "    return answer"
      ],
      "execution_count": null,
      "outputs": []
    },
    {
      "cell_type": "markdown",
      "metadata": {
        "id": "4U4lbijdlaxQ"
      },
      "source": [
        "## 2. 가장 큰 수\n",
        "\n",
        "입력예시"
      ]
    },
    {
      "cell_type": "code",
      "metadata": {
        "id": "23Q9ZzKjl0vu"
      },
      "source": [
        "numbers = [3, 30, 34, 5, 9]\n",
        "# return = \"9534330\""
      ],
      "execution_count": null,
      "outputs": []
    },
    {
      "cell_type": "markdown",
      "metadata": {
        "id": "Qki7ujhimK2Y"
      },
      "source": [
        "내 풀이"
      ]
    },
    {
      "cell_type": "code",
      "metadata": {
        "id": "GzjQRUsdl1pA"
      },
      "source": [
        "def solution(numbers):\n",
        "    answer=''\n",
        "    \n",
        "    numL = list(map(str, numbers)) # 리스트 원소 문자형으로 바꾸기\n",
        "    numL.sort(key = lambda x : (x[0],x[1%len(x)],x[2%len(x)],x[3%len(x)]),reverse=True)\n",
        "    \n",
        "    answer = str(int(answer.join(numL)))\n",
        "    \n",
        "    return answer"
      ],
      "execution_count": null,
      "outputs": []
    },
    {
      "cell_type": "markdown",
      "metadata": {
        "id": "H-f_xwRYmNJ6"
      },
      "source": [
        "다른 사람 풀이"
      ]
    },
    {
      "cell_type": "code",
      "metadata": {
        "id": "QUO5bfBjl1mf"
      },
      "source": [
        "import functools\n",
        "\n",
        "def comparator(a,b):\n",
        "    t1 = a+b\n",
        "    t2 = b+a\n",
        "    return (int(t1) > int(t2)) - (int(t1) < int(t2))\n",
        "\n",
        "def solution(numbers):\n",
        "    n = [str(x) for x in numbers]\n",
        "    n = sorted(n, key=functools.cmp_to_key(comparator),reverse=True)\n",
        "    answer = str(int(''.join(n)))\n",
        "    return answer"
      ],
      "execution_count": null,
      "outputs": []
    },
    {
      "cell_type": "markdown",
      "metadata": {
        "id": "IRn1hs6FqhGv"
      },
      "source": [
        "## 3. H-Index\n",
        "\n",
        "입력 예시"
      ]
    },
    {
      "cell_type": "code",
      "metadata": {
        "id": "-5Qq41A9qqD7"
      },
      "source": [
        "citations = [0,0,0,0]\n",
        "# return =3"
      ],
      "execution_count": null,
      "outputs": []
    },
    {
      "cell_type": "markdown",
      "metadata": {
        "id": "mJe4Z3oxqyRi"
      },
      "source": [
        "내 풀이"
      ]
    },
    {
      "cell_type": "code",
      "metadata": {
        "id": "Tsg48CfRqqAt"
      },
      "source": [
        "def solution(citations):\n",
        "    h=0\n",
        "    while h <= max(citations):\n",
        "        n=0\n",
        "        for i in citations:\n",
        "            if h <= i:\n",
        "                n=n+1\n",
        "        if n >= h:\n",
        "            h=h+1\n",
        "        else:\n",
        "            return h-1\n",
        "    return h-1"
      ],
      "execution_count": null,
      "outputs": []
    },
    {
      "cell_type": "markdown",
      "metadata": {
        "id": "1zOo0jYwq2du"
      },
      "source": [
        "다른 사람 풀이"
      ]
    },
    {
      "cell_type": "code",
      "metadata": {
        "id": "CgucQxjVrwOT"
      },
      "source": [
        "def solution(citations):\n",
        "    citations.sort(reverse=True)\n",
        "    answer = max(map(min, enumerate(citations, start=1)))\n",
        "    return answer"
      ],
      "execution_count": null,
      "outputs": []
    }
  ]
}